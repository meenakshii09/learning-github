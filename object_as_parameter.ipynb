{
  "nbformat": 4,
  "nbformat_minor": 0,
  "metadata": {
    "colab": {
      "provenance": [],
      "authorship_tag": "ABX9TyMEFYP3E91UKoiJeI7VoDR5",
      "include_colab_link": true
    },
    "kernelspec": {
      "name": "python3",
      "display_name": "Python 3"
    },
    "language_info": {
      "name": "python"
    }
  },
  "cells": [
    {
      "cell_type": "markdown",
      "metadata": {
        "id": "view-in-github",
        "colab_type": "text"
      },
      "source": [
        "<a href=\"https://colab.research.google.com/github/meenakshii09/learning-github/blob/main/object_as_parameter.ipynb\" target=\"_parent\"><img src=\"https://colab.research.google.com/assets/colab-badge.svg\" alt=\"Open In Colab\"/></a>"
      ]
    },
    {
      "cell_type": "code",
      "source": [
        "# adding complex numbers\n",
        "\n",
        "class Complex:\n",
        "  def __init__(self,real,img):\n",
        "    self.real=real\n",
        "    self.img=img\n",
        "\n",
        "  def complexadd(self,other): # Passing and returning object as paramter\n",
        "    real=self.real+other.real\n",
        "    img=self.img+other.img\n",
        "    c3=Complex(real,img)\n",
        "    return c3\n",
        "\n",
        "  def display(self):\n",
        "    print(f\"{self.real}+{self.img}I\")\n",
        "\n",
        "c1=Complex(4,9)\n",
        "c2=Complex(4,20)\n",
        "c4=Complex(4,4)\n",
        "\n",
        "c1.display()\n",
        "c2.display()\n",
        "c4.display()\n",
        "c3=c1.complexadd(c2)\n",
        "c3.display()\n",
        "c3=c2.complexadd(c4)\n",
        "c3.display()\n",
        "c3=c4.complexadd(c1)\n",
        "c3.display()\n",
        "\n",
        "\n",
        "\n",
        "\n"
      ],
      "metadata": {
        "colab": {
          "base_uri": "https://localhost:8080/"
        },
        "id": "HWIU_jW5s37K",
        "outputId": "713ad2b9-3986-48d1-a94b-8b38f00d00c4"
      },
      "execution_count": null,
      "outputs": [
        {
          "output_type": "stream",
          "name": "stdout",
          "text": [
            "4+9I\n",
            "4+20I\n",
            "4+4I\n",
            "8+29I\n",
            "8+24I\n",
            "8+13I\n"
          ]
        }
      ]
    },
    {
      "cell_type": "code",
      "source": [
        "# bank transfer\n",
        "\n",
        "class Bank:\n",
        "  def __init__(self,accno,bal):\n",
        "    self.accno=accno\n",
        "    self.bal=bal\n",
        "\n",
        "  def deposit(self,amount):\n",
        "    if amount>0:\n",
        "      self.bal+=amount\n",
        "      return True\n",
        "    return False\n",
        "\n",
        "  def withdraw(self,amount):\n",
        "    if amount>0 and amount<self.bal:\n",
        "      self.bal-=amount\n",
        "      return True\n",
        "    return False\n",
        "\n",
        "  def display(self):\n",
        "    print(f\"available balance is: {self.bal}\")\n",
        "\n",
        "  def fund_transfer(from_acc, to_acc, amount):\n",
        "    if from_acc.withdraw(amount):\n",
        "      to_acc.deposit(amount)\n",
        "      return from_acc, to_acc\n",
        "    else:\n",
        "      print(\"transaction failed\")\n",
        "      return from_acc, to_acc\n",
        "\n",
        "c1 = Bank(1001, 5000)\n",
        "c2 = Bank(1002, 4000)\n",
        "print(\"Initial balance\")\n",
        "c1.display()\n",
        "c2.display()\n",
        "c1.c2=Bank.fund_transfer(c1,c2,2000)\n",
        "print()\n",
        "print(\"Balance after transaction\")\n",
        "c1.display()\n",
        "c2.display()\n"
      ],
      "metadata": {
        "colab": {
          "base_uri": "https://localhost:8080/"
        },
        "id": "xcNlD357v3zd",
        "outputId": "58eb5b8c-34b6-4f2c-9bda-e33f647c6545"
      },
      "execution_count": null,
      "outputs": [
        {
          "output_type": "stream",
          "name": "stdout",
          "text": [
            "Initial balance\n",
            "available balance is: 5000\n",
            "available balance is: 4000\n",
            "\n",
            "Balance after transaction\n",
            "available balance is: 3000\n",
            "available balance is: 6000\n"
          ]
        }
      ]
    },
    {
      "cell_type": "code",
      "source": [],
      "metadata": {
        "id": "VTtFnt9t3eKk"
      },
      "execution_count": null,
      "outputs": []
    }
  ]
}