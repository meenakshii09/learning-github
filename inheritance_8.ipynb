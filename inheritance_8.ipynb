{
  "nbformat": 4,
  "nbformat_minor": 0,
  "metadata": {
    "colab": {
      "provenance": [],
      "authorship_tag": "ABX9TyOORcHo0CgAZaCqItSKPAnw",
      "include_colab_link": true
    },
    "kernelspec": {
      "name": "python3",
      "display_name": "Python 3"
    },
    "language_info": {
      "name": "python"
    }
  },
  "cells": [
    {
      "cell_type": "markdown",
      "metadata": {
        "id": "view-in-github",
        "colab_type": "text"
      },
      "source": [
        "<a href=\"https://colab.research.google.com/github/meenakshii09/learning-github/blob/main/inheritance_8.ipynb\" target=\"_parent\"><img src=\"https://colab.research.google.com/assets/colab-badge.svg\" alt=\"Open In Colab\"/></a>"
      ]
    },
    {
      "cell_type": "code",
      "execution_count": null,
      "metadata": {
        "colab": {
          "base_uri": "https://localhost:8080/"
        },
        "id": "9TYcYbmeKSgs",
        "outputId": "84742207-7438-488b-e3b8-da74a2ea0d17"
      },
      "outputs": [
        {
          "output_type": "stream",
          "name": "stdout",
          "text": [
            "Employee name:  DAA\n",
            "Employee salary:  100000\n",
            "Department:  Sales\n",
            "Employee name:  DADI\n",
            "Employee salary:  100000\n",
            "Department:  IT\n",
            "Employee name:  MEE\n",
            "Employee salary:  100\n",
            "Programming language:  C++\n"
          ]
        }
      ],
      "source": [
        "# Employee, manager, developer\n",
        "\n",
        "class Employee:\n",
        "  def __init__(self, name, sal):\n",
        "    self.name=name\n",
        "    self.sal=sal\n",
        "\n",
        "class Manager(Employee):\n",
        "  def __init__(self, name, sal, dept):\n",
        "    super().__init__(name, sal) # calls employee class constructor\n",
        "    self.dept=dept\n",
        "\n",
        "  def display(self):\n",
        "    print(\"Employee name: \", self.name)\n",
        "    print(\"Employee salary: \", self.sal)\n",
        "    print(\"Department: \" , self.dept)\n",
        "\n",
        "class Developer(Employee):\n",
        "  def __init__(self, name, sal, lang):\n",
        "    super().__init__(name, sal)\n",
        "    self.lang=lang\n",
        "\n",
        "  def display(self):\n",
        "    print(\"Employee name: \", self.name)\n",
        "    print(\"Employee salary: \", self.sal)\n",
        "    print(\"Programming language: \" , self.lang)\n",
        "\n",
        "M1 = Manager(\"DAA\", 100000, \"Sales\")\n",
        "M2 = Manager(\"DADI\", 100000, \"IT\")\n",
        "D1 = Developer(\"MEE\", 100, \"C++\")\n",
        "M1.display()\n",
        "M2.display()\n",
        "D1.display()\n"
      ]
    },
    {
      "cell_type": "code",
      "source": [
        "# Square and cube\n",
        "\n",
        "class Number:\n",
        "  def __init__(self):\n",
        "    num = int(input(\"enter the number: \"))\n",
        "    self.num=num\n",
        "\n",
        "class Square(Number):\n",
        "  def display(self):\n",
        "    print(f\"the square of the number {self.num} is {self.num**2}\")\n",
        "\n",
        "class Cube(Number):\n",
        "  def display(self):\n",
        "    print(f\"the cube of the number {self.num} is {self.num**3}\")\n",
        "\n",
        "sq = Square()\n",
        "sq.display()\n",
        "cb=Cube()\n",
        "cb.display()"
      ],
      "metadata": {
        "colab": {
          "base_uri": "https://localhost:8080/"
        },
        "id": "NfnZJxfaLKW4",
        "outputId": "547bec17-40ae-490f-b274-43a59a56a9e5"
      },
      "execution_count": null,
      "outputs": [
        {
          "output_type": "stream",
          "name": "stdout",
          "text": [
            "enter the number: 3\n",
            "the square of the number 3 is 9\n",
            "enter the number: 3\n",
            "the cube of the number 3 is 27\n"
          ]
        }
      ]
    },
    {
      "cell_type": "code",
      "source": [
        "# add two numbers using single inheritance:\n",
        "\n",
        "class A:\n",
        "  def __init__(self,x):\n",
        "    self.x=x\n",
        "\n",
        "class B(A):\n",
        "  def __init__(self,x,y):\n",
        "    super().__init__(x)\n",
        "    self.y=y\n",
        "\n",
        "  def addition(self):\n",
        "    print(f\"{self.y} + {self.x} = {self.x + self.y}\")\n",
        "\n",
        "C = B(44,20)\n",
        "C.addition()"
      ],
      "metadata": {
        "colab": {
          "base_uri": "https://localhost:8080/"
        },
        "id": "4Oidw-1pPCrX",
        "outputId": "5ea8efdd-6199-4c3f-88ad-741df50dd1c2"
      },
      "execution_count": null,
      "outputs": [
        {
          "output_type": "stream",
          "name": "stdout",
          "text": [
            "20 + 44 = 64\n"
          ]
        }
      ]
    },
    {
      "cell_type": "code",
      "source": [],
      "metadata": {
        "id": "fA9xrRaaRhOf"
      },
      "execution_count": null,
      "outputs": []
    }
  ]
}